{
 "cells": [
  {
   "cell_type": "markdown",
   "metadata": {},
   "source": [
    "通过[TensorFlow入门教程集合](http://blog.csdn.net/jdbc/article/details/52402302) 学习的笔记"
   ]
  },
  {
   "cell_type": "markdown",
   "metadata": {},
   "source": [
    "# 基本知识"
   ]
  },
  {
   "cell_type": "markdown",
   "metadata": {},
   "source": [
    "## graph 和 session"
   ]
  },
  {
   "cell_type": "markdown",
   "metadata": {},
   "source": [
    "（1）tensorflow是基于图的计算，graph是一个图，session是图的运行环境，下面是一个图：![](image/graph.jfif) 图需要放在session中运行才能获取结果\n",
    "\n",
    "\n",
    "（2）概念介绍：\n",
    "1. Tensor: 类型化的多维数组，输入输出，线\n",
    "2. Operation: 执行计算的单元，图中的节点\n",
    "3. Graph: 一张包含Tensor和Operation的图，\n",
    "4. Session： 会话上下文，用于执行图\n",
    "\n",
    "\n",
    "（3）举例：\n",
    "下面定义了一个图，（tensorflow会自动定义）"
   ]
  },
  {
   "cell_type": "code",
   "execution_count": 1,
   "metadata": {},
   "outputs": [
    {
     "name": "stdout",
     "output_type": "stream",
     "text": [
      "Tensor(\"add:0\", shape=(), dtype=int32)\n"
     ]
    }
   ],
   "source": [
    "import tensorflow as tf\n",
    "graph = tf.Graph()\n",
    "with graph.as_default():\n",
    "    foo = tf.Variable(3, name='foo')\n",
    "    bar = tf.Variable(2, name='bar')\n",
    "    result = foo + bar\n",
    "    initialize = tf.global_variables_initializer()\n",
    "    \n",
    "print(result)"
   ]
  },
  {
   "cell_type": "code",
   "execution_count": 6,
   "metadata": {
    "scrolled": true
   },
   "outputs": [
    {
     "name": "stdout",
     "output_type": "stream",
     "text": [
      "5\n"
     ]
    }
   ],
   "source": [
    "with tf.Session(graph=graph) as sess:\n",
    "    sess.run(initialize)\n",
    "    print(sess.run(result))"
   ]
  },
  {
   "cell_type": "markdown",
   "metadata": {},
   "source": [
    "## 数据结构"
   ]
  },
  {
   "cell_type": "markdown",
   "metadata": {},
   "source": [
    "（1） rank：数据维度\n",
    "\n",
    "Rank|Math entity|Python example\n",
    "----|-----------|--------------\n",
    "0|Scalar(magnitude only)|s = 438\n",
    "1|Vector(magnitude and direction)| v = [1.1, 2.2, 3.3]\n",
    "2|Matrix(table of numbers)|m = [[1, 2, 3], [4, 5, 6], [7, 8, 9]]\n",
    "3|3-Tensor(cube of numbers)|t = [[[2],[4],[6]], [[8],[12],[14]]]\n",
    "n| n-Tensor(you get the idea)|...\n",
    "\n",
    "\n",
    "（2）shape：指tensor每个维度数据个数\n",
    "\n",
    "Rank|Shape|Dimension number|Example\n",
    "----|-----|----------------|-------\n",
    "0|[]|0-D|A 0-D tensor.A scalar.\n",
    "1|[D0]|1-D|A 1-D tensor with shape[5]\n",
    "2|[D0,D1]|2-D|A 2-D tensor with shape[3, 4]\n",
    "3|[D0,D1,D2]|3-D|A 3-D tensor with shape[1, 4, 3]\n",
    "n|[D0,D1,...Dn]|n-D|A tensor with shape[D0,D1,...Dn]\n",
    "\n",
    "\n",
    "（3）data type：数据类型\n",
    "\n",
    "Data Type|Python type|Description\n",
    "---------|-----------|-----------\n",
    "DT_FLOAT|tf.float32|32位浮点数\n",
    "DT_DOUBLE|tf.float64|64位浮点数\n",
    "DT_INT8|tf.int8|8位有符号整数\n",
    "DT_INT16|tf.int16|16位有符号整数\n",
    "DT_INT32|tf.int32|32位有符号整数\n",
    "DT_INT64|tf.int64|64位有符号整数\n",
    "DT_UINT8|tf.uint8|8位无符号整数\n",
    "DT_UINT16|tf.uint16|16位无符号整数\n",
    "DT_STRING|tf.string|变长数组，每一个元素都是一个byte数组\n",
    "DT_BOOL|tf.bool|boolean类型\n",
    "DT_COMPLEX64|tf.complex64|complex number made of two 32 bits floating points\n",
    "DT_COMPLEX128|tf.complex128|complex number made of two 64 bits floating points\n",
    "DT_QINT8|tf.qint8|8 bits signed integer used in quantized Ops\n",
    "DT_QINT32|tf.qint32|32 bits signed integer used in quantized Ops\n",
    "DT_QUINT8|tf.quint8|8 bits unsigned integer used in quantized Ops"
   ]
  },
  {
   "cell_type": "markdown",
   "metadata": {},
   "source": [
    "## 变量"
   ]
  },
  {
   "cell_type": "code",
   "execution_count": 7,
   "metadata": {},
   "outputs": [],
   "source": [
    "weights = tf.Variable(tf.random_normal([784, 200], stddev=0.35),name=\"weights\")\n",
    "biases = tf.Variable(tf.zeros([200]),name='biases')"
   ]
  },
  {
   "cell_type": "markdown",
   "metadata": {},
   "source": [
    "（1）介绍\n",
    "`tf.random_normal`是生成一个正态分布的tensor,`shape`是第一个参数，`stddev`是标准差`tf.zeros`是生成一个全零的tensor。\n",
    "\n",
    "\n",
    "（2）初始化\n",
    " 初始化的时候会分配空间，初始赋值。在计算前需要初始化所有的变量，一般会在定义图的时候定义`global_variables_initializer`，在session运算是初始化所有变量。如果需要初始化部分变量，使用`variables_initializer`"
   ]
  },
  {
   "cell_type": "code",
   "execution_count": 10,
   "metadata": {},
   "outputs": [],
   "source": [
    "a = tf.Variable([1], name='a')\n",
    "b = tf.Variable([2], name='b')\n",
    "Init_ab = tf.variables_initializer([a,b],name='init_ab')"
   ]
  },
  {
   "cell_type": "code",
   "execution_count": 11,
   "metadata": {},
   "outputs": [],
   "source": [
    "init_all = tf.global_variables_initializer()"
   ]
  },
  {
   "cell_type": "markdown",
   "metadata": {},
   "source": [
    "（3） 常量和变量的区别，常量会在图载入的时候跟随一起载入。变量在每个session中都是单独保存的。\n",
    "\n",
    "\n",
    "（4） 命名\n",
    "定义变量的时候尽量指定好每个变量的名字\n",
    "\n"
   ]
  },
  {
   "cell_type": "markdown",
   "metadata": {},
   "source": [
    "## placeholders 和feed_dict"
   ]
  },
  {
   "cell_type": "markdown",
   "metadata": {},
   "source": [
    "当定一个图的时候，可能有的值需要从输入数据中取得，placeholder的定义：`tf.placeholder(dtype,shape=None,name=None)`"
   ]
  },
  {
   "cell_type": "code",
   "execution_count": 12,
   "metadata": {},
   "outputs": [],
   "source": [
    "x = tf.placeholder(tf.float32)"
   ]
  },
  {
   "cell_type": "code",
   "execution_count": 14,
   "metadata": {},
   "outputs": [
    {
     "name": "stdout",
     "output_type": "stream",
     "text": [
      "[3]\n"
     ]
    }
   ],
   "source": [
    "foo = tf.placeholder(tf.int32,shape=[1],name='foo')\n",
    "bar = tf.constant(2,name='bar')\n",
    "result = foo + bar\n",
    "with tf.Session() as sess:\n",
    "    print(sess.run(result, {foo: [1]}))"
   ]
  },
  {
   "cell_type": "markdown",
   "metadata": {},
   "source": [
    "## MNIST识别实例"
   ]
  },
  {
   "cell_type": "code",
   "execution_count": null,
   "metadata": {},
   "outputs": [],
   "source": [
    "from tensorflow.examples.tutorials.mnist import input_data\n",
    "mnist = input_data.read_data_sets(\"MNIST_data/\", one_hot=True)"
   ]
  },
  {
   "cell_type": "markdown",
   "metadata": {},
   "source": [
    "通过上面的语句或者[链接](http://yann.lecun.com/exdb/mnist/)获取数据集"
   ]
  },
  {
   "cell_type": "markdown",
   "metadata": {},
   "source": [
    "使用tensorflow进行graph的构建时，大致需要以下几步\n",
    "\n",
    "1. 为输入X和输出Y定义placeholder\n",
    "2. 定义权重W\n",
    "3. 定义模型结构\n",
    "4. 定义损失函数\n",
    "5. 定义优化算法\n",
    "\n",
    "\n",
    "开始步骤：\n",
    "\n",
    "（1） 导入需要的包\n",
    "\n",
    "\n",
    "（2） 定义X和y的placeholder，以及W，b的Variable（None表示任意维度，一般是min-batch的batch size。而W定义是shape为784，10，rank为2的Variable，b是shape为10，rank为1的Variable）"
   ]
  },
  {
   "cell_type": "code",
   "execution_count": 1,
   "metadata": {},
   "outputs": [
    {
     "name": "stdout",
     "output_type": "stream",
     "text": [
      "Extracting MNIST_data/train-images-idx3-ubyte.gz\n",
      "Extracting MNIST_data/train-labels-idx1-ubyte.gz\n",
      "Extracting MNIST_data/t10k-images-idx3-ubyte.gz\n",
      "Extracting MNIST_data/t10k-labels-idx1-ubyte.gz\n"
     ]
    }
   ],
   "source": [
    "from tensorflow.examples.tutorials.mnist import input_data\n",
    "import tensorflow as tf\n",
    "mnist = input_data.read_data_sets(\"MNIST_data/\", one_hot=True)  \n",
    "x = tf.placeholder(tf.float32,[None, 784])\n",
    "y_ = tf.placeholder(tf.float32, [None, 10])\n",
    "W = tf.Variable(tf.zeros([784, 10]))\n",
    "b = tf.Variable(tf.zeros([10]))"
   ]
  },
  {
   "cell_type": "markdown",
   "metadata": {},
   "source": [
    "（3） 定义模型"
   ]
  },
  {
   "cell_type": "code",
   "execution_count": 2,
   "metadata": {},
   "outputs": [],
   "source": [
    "y = tf.nn.softmax(tf.matmul(x, W) + b)"
   ]
  },
  {
   "cell_type": "markdown",
   "metadata": {},
   "source": [
    "（4）定义损失函数,变量初始化器"
   ]
  },
  {
   "cell_type": "code",
   "execution_count": 3,
   "metadata": {},
   "outputs": [],
   "source": [
    "cross_entropy = tf.reduce_mean(-tf.reduce_sum(y_*tf.log(y),reduction_indices=[1]))\n",
    "train_step = tf.train.GradientDescentOptimizer(0.5).minimize(cross_entropy)\n",
    "init = tf.global_variables_initializer()"
   ]
  },
  {
   "cell_type": "markdown",
   "metadata": {},
   "source": [
    "至此graph定义完毕，下面开始计算"
   ]
  },
  {
   "cell_type": "code",
   "execution_count": 7,
   "metadata": {},
   "outputs": [],
   "source": [
    "sess = tf.Session()\n",
    "sess.run(init)\n",
    "for i in range(1000):\n",
    "    batch_xs, batch_ys = mnist.train.next_batch(100)\n",
    "    sess.run(train_step, feed_dict={x: batch_xs, y_: batch_ys})"
   ]
  },
  {
   "cell_type": "markdown",
   "metadata": {},
   "source": [
    "迭代了1000次，每次100个样本，`mnist.train.next_batch`就是生成下一个batch的数据，接下来验证训练结果，使用单纯的正确率验证"
   ]
  },
  {
   "cell_type": "code",
   "execution_count": 9,
   "metadata": {},
   "outputs": [
    {
     "name": "stdout",
     "output_type": "stream",
     "text": [
      "0.9166\n"
     ]
    }
   ],
   "source": [
    "correct_prediction = tf.equal(tf.argmax(y, 1), tf.argmax(y_, 1))\n",
    "accuracy = tf.reduce_mean(tf.cast(correct_prediction, tf.float32))\n",
    "print(sess.run(accuracy, feed_dict={x: mnist.test.images, y_: mnist.test.labels}))\n",
    "sess.close()"
   ]
  },
  {
   "cell_type": "code",
   "execution_count": null,
   "metadata": {},
   "outputs": [],
   "source": []
  },
  {
   "cell_type": "code",
   "execution_count": null,
   "metadata": {},
   "outputs": [],
   "source": []
  },
  {
   "cell_type": "code",
   "execution_count": null,
   "metadata": {},
   "outputs": [],
   "source": []
  },
  {
   "cell_type": "code",
   "execution_count": null,
   "metadata": {},
   "outputs": [],
   "source": []
  },
  {
   "cell_type": "code",
   "execution_count": null,
   "metadata": {},
   "outputs": [],
   "source": []
  },
  {
   "cell_type": "code",
   "execution_count": null,
   "metadata": {},
   "outputs": [],
   "source": []
  },
  {
   "cell_type": "code",
   "execution_count": null,
   "metadata": {},
   "outputs": [],
   "source": []
  },
  {
   "cell_type": "code",
   "execution_count": null,
   "metadata": {},
   "outputs": [],
   "source": []
  },
  {
   "cell_type": "markdown",
   "metadata": {},
   "source": [
    "# 附录1 "
   ]
  },
  {
   "cell_type": "code",
   "execution_count": 1,
   "metadata": {},
   "outputs": [],
   "source": [
    "import tensorflow as tf"
   ]
  },
  {
   "cell_type": "code",
   "execution_count": 2,
   "metadata": {},
   "outputs": [
    {
     "name": "stdout",
     "output_type": "stream",
     "text": [
      "Tensor(\"Const:0\", shape=(), dtype=float32)\n",
      "Tensor(\"Const_1:0\", shape=(), dtype=float32)\n"
     ]
    }
   ],
   "source": [
    "node1 = tf.constant(3.0, dtype=tf.float32)\n",
    "node2 = tf.constant(0.2)\n",
    "print(node1)\n",
    "print(node2)"
   ]
  },
  {
   "cell_type": "code",
   "execution_count": 3,
   "metadata": {},
   "outputs": [
    {
     "name": "stdout",
     "output_type": "stream",
     "text": [
      "[3.0, 0.2]\n"
     ]
    }
   ],
   "source": [
    "with tf.Session() as sess:\n",
    "    print(sess.run([node1, node2]))"
   ]
  },
  {
   "cell_type": "code",
   "execution_count": 4,
   "metadata": {},
   "outputs": [
    {
     "name": "stdout",
     "output_type": "stream",
     "text": [
      "Tensor(\"Add:0\", shape=(), dtype=float32)\n",
      "Session run : 3.2\n"
     ]
    }
   ],
   "source": [
    "from __future__ import print_function\n",
    "node3 = tf.add(node1, node2)\n",
    "print(node3)\n",
    "with tf.Session() as sess:\n",
    "    print(\"Session run :\", sess.run(node3))"
   ]
  },
  {
   "cell_type": "code",
   "execution_count": 5,
   "metadata": {},
   "outputs": [],
   "source": [
    "a = tf.placeholder(tf.float32)\n",
    "b = tf.placeholder(tf.float32)\n",
    "add_node = a + b"
   ]
  },
  {
   "cell_type": "code",
   "execution_count": 6,
   "metadata": {},
   "outputs": [
    {
     "name": "stdout",
     "output_type": "stream",
     "text": [
      "3.6\n",
      "[ 0.60000002  0.80000001]\n"
     ]
    }
   ],
   "source": [
    "with tf.Session() as sess:\n",
    "    print(sess.run(add_node, {a: 3.4, b: 0.2}))\n",
    "    print(sess.run(add_node, {a: [0.2, 0.3], b: [0.4, 0.5]}))"
   ]
  },
  {
   "cell_type": "code",
   "execution_count": 7,
   "metadata": {},
   "outputs": [
    {
     "name": "stdout",
     "output_type": "stream",
     "text": [
      "15.0\n"
     ]
    }
   ],
   "source": [
    "add_and_triple = add_node * 3.\n",
    "with tf.Session() as sess:\n",
    "    print(sess.run(add_and_triple, {a: 2, b: 3}))"
   ]
  },
  {
   "cell_type": "code",
   "execution_count": 8,
   "metadata": {},
   "outputs": [],
   "source": [
    "W = tf.Variable([.3], dtype=tf.float32)\n",
    "b = tf.Variable([-.3], dtype=tf.float32) \n",
    "x = tf.placeholder(tf.float32) \n",
    "linear_model = W*x + b"
   ]
  },
  {
   "cell_type": "markdown",
   "metadata": {},
   "source": [
    "初始化变量"
   ]
  },
  {
   "cell_type": "code",
   "execution_count": 9,
   "metadata": {},
   "outputs": [
    {
     "name": "stdout",
     "output_type": "stream",
     "text": [
      "[ 0.06       -0.21000001 -0.90000004]\n"
     ]
    }
   ],
   "source": [
    "init = tf.global_variables_initializer()\n",
    "with tf.Session() as sess:\n",
    "    sess.run(init)\n",
    "    print(sess.run(linear_model, {x: [1.2, .3, -2]}))"
   ]
  },
  {
   "cell_type": "code",
   "execution_count": 10,
   "metadata": {},
   "outputs": [
    {
     "name": "stdout",
     "output_type": "stream",
     "text": [
      "15.1301\n"
     ]
    }
   ],
   "source": [
    "y = tf.placeholder(tf.float32)\n",
    "squared_deltas = tf.square(linear_model - y)\n",
    "loss = tf.reduce_sum(squared_deltas)\n",
    "with tf.Session() as sess:\n",
    "    sess.run(init)\n",
    "    print(sess.run(loss, {x: [0.2, .5, 1], y: [3., 2, 0.1]}))"
   ]
  },
  {
   "cell_type": "code",
   "execution_count": 11,
   "metadata": {},
   "outputs": [
    {
     "name": "stdout",
     "output_type": "stream",
     "text": [
      "13.6989\n"
     ]
    }
   ],
   "source": [
    "fixW = tf.assign(W, [.1])\n",
    "fixb = tf.assign(b, [-.1])\n",
    "with tf.Session() as sess:\n",
    "    sess.run(init)\n",
    "    sess.run([fixW, fixb])\n",
    "    print(sess.run(loss, {x: [0.2, .5, 1], y: [3., 2, 0.1]}))"
   ]
  },
  {
   "cell_type": "code",
   "execution_count": 12,
   "metadata": {},
   "outputs": [
    {
     "name": "stdout",
     "output_type": "stream",
     "text": [
      "[array([ 0.33646002], dtype=float32), array([-0.19020002], dtype=float32)]\n",
      "13.8431\n"
     ]
    }
   ],
   "source": [
    "optimizer = tf.train.GradientDescentOptimizer(0.01)\n",
    "train = optimizer.minimize(loss)\n",
    "with tf.Session() as sess:\n",
    "    sess.run(init)\n",
    "    sess.run(train, {x: [0.2, .5, 1], y: [3., 2, 0.1]})\n",
    "    print(sess.run([W, b]))\n",
    "    tf.assign(W, [ 0.33646002])\n",
    "    tf.assign(b, [-0.19020002])\n",
    "    sess.run([W, b])\n",
    "    print(sess.run(loss, {x: [0.2, .5, 1], y: [3., 2, 0.1]}))"
   ]
  },
  {
   "cell_type": "code",
   "execution_count": 13,
   "metadata": {},
   "outputs": [
    {
     "name": "stdout",
     "output_type": "stream",
     "text": [
      "[ 1.00000298] [ 1.99999607] 2.00231e-11\n"
     ]
    }
   ],
   "source": [
    "import tensorflow as tf\n",
    "a = tf.Variable([.3], dtype=tf.float32)\n",
    "b = tf.Variable([-.3], dtype=tf.float32)\n",
    "x = tf.placeholder(tf.float32)\n",
    "y1 = a * x + b\n",
    "y2 = tf.placeholder(tf.float32)\n",
    "loss = tf.reduce_sum(tf.square(y1 - y2))\n",
    "opt = tf.train.GradientDescentOptimizer(0.01)\n",
    "train = opt.minimize(loss)\n",
    "init = tf.global_variables_initializer()\n",
    "train_x = [0, 1, 2]\n",
    "train_y = [2, 3, 4]\n",
    "with tf.Session() as sess:\n",
    "    sess.run(init)\n",
    "    for i in range(10000):\n",
    "        sess.run(train, {x: train_x, y2: train_y})\n",
    "    curr_a, curr_b, curr_loss = sess.run([a, b, loss], {x: train_x, y2: train_y})\n",
    "    print(curr_a, curr_b, curr_loss)"
   ]
  },
  {
   "cell_type": "code",
   "execution_count": 14,
   "metadata": {},
   "outputs": [
    {
     "name": "stdout",
     "output_type": "stream",
     "text": [
      "INFO:tensorflow:Using default config.\n",
      "WARNING:tensorflow:Using temporary folder as model directory: C:\\Users\\seven\\AppData\\Local\\Temp\\tmph5nfele2\n",
      "INFO:tensorflow:Using config: {'_model_dir': 'C:\\\\Users\\\\seven\\\\AppData\\\\Local\\\\Temp\\\\tmph5nfele2', '_tf_random_seed': None, '_save_summary_steps': 100, '_save_checkpoints_steps': None, '_save_checkpoints_secs': 600, '_session_config': None, '_keep_checkpoint_max': 5, '_keep_checkpoint_every_n_hours': 10000, '_log_step_count_steps': 100, '_service': None, '_cluster_spec': <tensorflow.python.training.server_lib.ClusterSpec object at 0x0000018398BD3208>, '_task_type': 'worker', '_task_id': 0, '_master': '', '_is_chief': True, '_num_ps_replicas': 0, '_num_worker_replicas': 1}\n",
      "INFO:tensorflow:Create CheckpointSaverHook.\n",
      "INFO:tensorflow:Saving checkpoints for 1 into C:\\Users\\seven\\AppData\\Local\\Temp\\tmph5nfele2\\model.ckpt.\n",
      "INFO:tensorflow:loss = 52.0, step = 1\n",
      "INFO:tensorflow:global_step/sec: 196.577\n",
      "INFO:tensorflow:loss = 0.305773, step = 101 (0.511 sec)\n",
      "INFO:tensorflow:global_step/sec: 256.558\n",
      "INFO:tensorflow:loss = 0.0230626, step = 201 (0.389 sec)\n",
      "INFO:tensorflow:global_step/sec: 259.216\n",
      "INFO:tensorflow:loss = 0.00985958, step = 301 (0.387 sec)\n",
      "INFO:tensorflow:global_step/sec: 237.103\n",
      "INFO:tensorflow:loss = 0.00513617, step = 401 (0.422 sec)\n",
      "INFO:tensorflow:global_step/sec: 268.251\n",
      "INFO:tensorflow:loss = 0.00230227, step = 501 (0.373 sec)\n",
      "INFO:tensorflow:global_step/sec: 253.953\n",
      "INFO:tensorflow:loss = 0.000612036, step = 601 (0.396 sec)\n",
      "INFO:tensorflow:global_step/sec: 234.327\n",
      "INFO:tensorflow:loss = 0.000130527, step = 701 (0.425 sec)\n",
      "INFO:tensorflow:global_step/sec: 247.667\n",
      "INFO:tensorflow:loss = 5.49874e-05, step = 801 (0.406 sec)\n",
      "INFO:tensorflow:global_step/sec: 214.716\n",
      "INFO:tensorflow:loss = 1.35377e-05, step = 901 (0.466 sec)\n",
      "INFO:tensorflow:Saving checkpoints for 1000 into C:\\Users\\seven\\AppData\\Local\\Temp\\tmph5nfele2\\model.ckpt.\n",
      "INFO:tensorflow:Loss for final step: 4.02885e-06.\n",
      "INFO:tensorflow:Starting evaluation at 2018-01-17-10:28:52\n",
      "INFO:tensorflow:Restoring parameters from C:\\Users\\seven\\AppData\\Local\\Temp\\tmph5nfele2\\model.ckpt-1000\n",
      "INFO:tensorflow:Finished evaluation at 2018-01-17-10:28:54\n",
      "INFO:tensorflow:Saving dict for global step 1000: average_loss = 1.0633e-06, global_step = 1000, loss = 4.25322e-06\n"
     ]
    }
   ],
   "source": [
    "import numpy as np\n",
    "import tensorflow as tf\n",
    "feature_columns = [tf.feature_column.numeric_column(\"x\", shape=[1])]\n",
    "estimator = tf.estimator.LinearRegressor(feature_columns=feature_columns)\n",
    "x_train = np.array([0, 1, 2])\n",
    "y_train = np.array([2, 3, 4])\n",
    "input_fn = tf.estimator.inputs.numpy_input_fn(\n",
    "    {\"x\": x_train}, y_train, batch_size=4, num_epochs=None, shuffle=True)\n",
    "train_input_fn = tf.estimator.inputs.numpy_input_fn(\n",
    "    {\"x\": x_train}, y_train, batch_size=4, num_epochs=1000, shuffle=False)\n",
    "estimator.train(input_fn=input_fn, steps=1000)\n",
    "train_metrics = estimator.evaluate(input_fn=train_input_fn)"
   ]
  },
  {
   "cell_type": "markdown",
   "metadata": {},
   "source": [
    "使用tf的预估来实现Estimator"
   ]
  },
  {
   "cell_type": "code",
   "execution_count": 15,
   "metadata": {},
   "outputs": [
    {
     "name": "stdout",
     "output_type": "stream",
     "text": [
      "INFO:tensorflow:Using default config.\n",
      "WARNING:tensorflow:Using temporary folder as model directory: C:\\Users\\seven\\AppData\\Local\\Temp\\tmpebk923yq\n",
      "INFO:tensorflow:Using config: {'_model_dir': 'C:\\\\Users\\\\seven\\\\AppData\\\\Local\\\\Temp\\\\tmpebk923yq', '_tf_random_seed': None, '_save_summary_steps': 100, '_save_checkpoints_steps': None, '_save_checkpoints_secs': 600, '_session_config': None, '_keep_checkpoint_max': 5, '_keep_checkpoint_every_n_hours': 10000, '_log_step_count_steps': 100, '_service': None, '_cluster_spec': <tensorflow.python.training.server_lib.ClusterSpec object at 0x000001838CFC85F8>, '_task_type': 'worker', '_task_id': 0, '_master': '', '_is_chief': True, '_num_ps_replicas': 0, '_num_worker_replicas': 1}\n",
      "INFO:tensorflow:Create CheckpointSaverHook.\n",
      "INFO:tensorflow:Saving checkpoints for 1 into C:\\Users\\seven\\AppData\\Local\\Temp\\tmpebk923yq\\model.ckpt.\n",
      "INFO:tensorflow:loss = 152.552423817, step = 1\n",
      "INFO:tensorflow:global_step/sec: 328.057\n",
      "INFO:tensorflow:loss = 0.0381845501129, step = 101 (0.308 sec)\n",
      "INFO:tensorflow:global_step/sec: 339.178\n",
      "INFO:tensorflow:loss = 0.00021294909699, step = 201 (0.295 sec)\n",
      "INFO:tensorflow:global_step/sec: 315.64\n",
      "INFO:tensorflow:loss = 4.95386395876e-06, step = 301 (0.317 sec)\n",
      "INFO:tensorflow:global_step/sec: 256.558\n",
      "INFO:tensorflow:loss = 4.69964360921e-08, step = 401 (0.389 sec)\n",
      "INFO:tensorflow:global_step/sec: 345.025\n",
      "INFO:tensorflow:loss = 4.47690522283e-10, step = 501 (0.290 sec)\n",
      "INFO:tensorflow:global_step/sec: 352.315\n",
      "INFO:tensorflow:loss = 4.99846432776e-12, step = 601 (0.285 sec)\n",
      "INFO:tensorflow:global_step/sec: 307.87\n",
      "INFO:tensorflow:loss = 3.41486721176e-14, step = 701 (0.329 sec)\n",
      "INFO:tensorflow:global_step/sec: 315.639\n",
      "INFO:tensorflow:loss = 3.03137338403e-16, step = 801 (0.312 sec)\n",
      "INFO:tensorflow:global_step/sec: 313.658\n",
      "INFO:tensorflow:loss = 4.08914883567e-18, step = 901 (0.320 sec)\n",
      "INFO:tensorflow:Saving checkpoints for 1000 into C:\\Users\\seven\\AppData\\Local\\Temp\\tmpebk923yq\\model.ckpt.\n",
      "INFO:tensorflow:Loss for final step: 2.82433418293e-20.\n",
      "INFO:tensorflow:Starting evaluation at 2018-01-17-10:29:00\n",
      "INFO:tensorflow:Restoring parameters from C:\\Users\\seven\\AppData\\Local\\Temp\\tmpebk923yq\\model.ckpt-1000\n",
      "INFO:tensorflow:Finished evaluation at 2018-01-17-10:29:01\n",
      "INFO:tensorflow:Saving dict for global step 1000: global_step = 1000, loss = 3.14567e-20\n"
     ]
    }
   ],
   "source": [
    "import numpy as np\n",
    "import tensorflow as tf\n",
    "\n",
    "\n",
    "def model_fn(features, labels, mode):\n",
    "    a = tf.get_variable(\"a\", [1], dtype=tf.float64)\n",
    "    b = tf.get_variable(\"b\", [1], dtype=tf.float64)\n",
    "    y1 = a * features[\"x\"] + b\n",
    "    loss = tf.reduce_sum(tf.square(y1 - labels))\n",
    "    global_step = tf.train.get_global_step()\n",
    "    optimizer = tf.train.GradientDescentOptimizer(0.01)\n",
    "    train = tf.group(optimizer.minimize(loss),\n",
    "                    tf.assign_add(global_step, 1))\n",
    "    return tf.estimator.EstimatorSpec(\n",
    "        mode=mode,\n",
    "        predictions=y1,\n",
    "        loss=loss,\n",
    "        train_op=train)\n",
    "\n",
    "\n",
    "estimator = tf.estimator.Estimator(model_fn=model_fn)\n",
    "x_train = np.array([0., 1., 2.])\n",
    "y_train = np.array([2., 3., 4.])\n",
    "input_fn = tf.estimator.inputs.numpy_input_fn(\n",
    "    {\"x\": x_train}, y_train, batch_size=4, num_epochs=None, shuffle=True)\n",
    "train_input_fn = tf.estimator.inputs.numpy_input_fn(\n",
    "    {\"x\": x_train}, y_train, batch_size=4, num_epochs=1000, shuffle=False)\n",
    "estimator.train(input_fn=input_fn, steps=1000)\n",
    "train_metrics = estimator.evaluate(input_fn=train_input_fn)"
   ]
  },
  {
   "cell_type": "code",
   "execution_count": null,
   "metadata": {},
   "outputs": [],
   "source": []
  },
  {
   "cell_type": "code",
   "execution_count": null,
   "metadata": {},
   "outputs": [],
   "source": []
  },
  {
   "cell_type": "code",
   "execution_count": null,
   "metadata": {},
   "outputs": [],
   "source": []
  }
 ],
 "metadata": {
  "kernelspec": {
   "display_name": "Python 3",
   "language": "python",
   "name": "python3"
  },
  "language_info": {
   "codemirror_mode": {
    "name": "ipython",
    "version": 3
   },
   "file_extension": ".py",
   "mimetype": "text/x-python",
   "name": "python",
   "nbconvert_exporter": "python",
   "pygments_lexer": "ipython3",
   "version": "3.6.3"
  },
  "toc": {
   "nav_menu": {
    "height": "202px",
    "width": "193px"
   },
   "number_sections": true,
   "sideBar": true,
   "skip_h1_title": false,
   "toc_cell": false,
   "toc_position": {},
   "toc_section_display": "block",
   "toc_window_display": false
  }
 },
 "nbformat": 4,
 "nbformat_minor": 2
}
